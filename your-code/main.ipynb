{
 "cells": [
  {
   "cell_type": "markdown",
   "metadata": {},
   "source": [
    "# Lab | Classes: Vikings vs Saxons\n",
    "\n",
    "The Vikings and Saxons are at war. The moment to fight has come!"
   ]
  },
  {
   "cell_type": "markdown",
   "metadata": {},
   "source": [
    "<div style=\"text-align:center\">\n",
    "  <img src=\"https://media.giphy.com/media/3o7qDLwhxkGTMvDHws/giphy.gif\" width=400px>\n",
    "</div>"
   ]
  },
  {
   "cell_type": "markdown",
   "metadata": {},
   "source": [
    "### Import module\n",
    "To go to war, you need brave soldiers. \n",
    "\n",
    "**Import `soldiers` from module `battle`. Use `bs` as an alias for your import. You'll also need module `random`. Import both of them in the cell below.**"
   ]
  },
  {
   "cell_type": "code",
   "execution_count": 25,
   "metadata": {},
   "outputs": [],
   "source": [
    "# your code here\n",
    "import os\n",
    "import sys\n",
    "from battle import soldiers as bs\n",
    "import random"
   ]
  },
  {
   "cell_type": "markdown",
   "metadata": {},
   "source": [
    "Now, follow the instructions to create a simulation of the war.\n",
    "\n",
    "### Define functions\n",
    "\n",
    "**Create two empty lists called `viking_army` and `saxon_army`.**\n",
    "\n",
    "These lists will store the soldiers of each army. "
   ]
  },
  {
   "cell_type": "code",
   "execution_count": 6,
   "metadata": {},
   "outputs": [],
   "source": [
    "# your code here\n",
    "viking_army = []\n",
    "saxon_army = []"
   ]
  },
  {
   "cell_type": "markdown",
   "metadata": {},
   "source": [
    "**Define two functions called `add_viking` and `add_saxon`.** \n",
    "\n",
    "These functions will add soldiers to each army. The requirements that `add_viking` and `add_saxon` must meet are:\n",
    "\n",
    "* **add_viking**\n",
    "    - Must receive a `Viking` object as an argument.\n",
    "    - Must add the `Viking` to the `viking_army`. \n",
    "    \n",
    "* **add_saxon**\n",
    "    - Must receive a `Saxon` object as an argument.\n",
    "    - Must add the `Saxon` to the `saxon_army`. "
   ]
  },
  {
   "cell_type": "code",
   "execution_count": 38,
   "metadata": {},
   "outputs": [],
   "source": [
    "# your code here\n",
    "def add_viking(vik):\n",
    "    viking_army.append(vik)\n",
    "    \n",
    "def add_saxon(saxon):\n",
    "    saxon_army.append(saxon)"
   ]
  },
  {
   "cell_type": "markdown",
   "metadata": {},
   "source": [
    "**Define two functions called `viking_attack` and `saxon_attack`.** \n",
    "\n",
    "These functions will choose one random soldier to attack one random soldier of the opposite army. The requirements that `viking_attack` and `saxon_attack` must meet are:\n",
    "\n",
    "* **viking_attack**\n",
    "    - Must choose a `Viking` object from the `viking_army` at random.\n",
    "    - Must choose a `Saxon` object from the `saxon_army` at random. \n",
    "    - Must make the `Saxon` receive damage equal to the `strength` of the `Viking`. \n",
    "    - Must remove the `Saxon` from the army if he or she dies.\n",
    "    - Must return the result of calling the `receive_damage` method of the `Saxon`. \n",
    "    \n",
    "* **saxon_attack**\n",
    "    - Must choose a `Viking` object from the `viking_army` at random.\n",
    "    - Must choose a `Saxon` object from the `saxon_army` at random. \n",
    "    - Must make the `Viking` receive damage equal to the `strength` of the `Saxon`. \n",
    "    - Must remove the `Viking` from the army if he or she dies.\n",
    "    - Must return the result of calling the `receive_damage` method of the `Viking`."
   ]
  },
  {
   "cell_type": "code",
   "execution_count": 59,
   "metadata": {},
   "outputs": [
    {
     "ename": "AttributeError",
     "evalue": "'str' object has no attribute 'receive_damage'",
     "output_type": "error",
     "traceback": [
      "\u001b[1;31m---------------------------------------------------------------------------\u001b[0m",
      "\u001b[1;31mAttributeError\u001b[0m                            Traceback (most recent call last)",
      "\u001b[1;32m<ipython-input-59-4923fe467d16>\u001b[0m in \u001b[0;36m<module>\u001b[1;34m\u001b[0m\n\u001b[0;32m     17\u001b[0m \u001b[1;33m\u001b[0m\u001b[0m\n\u001b[0;32m     18\u001b[0m \u001b[0mrange\u001b[0m\u001b[1;33m(\u001b[0m\u001b[0mlen\u001b[0m\u001b[1;33m(\u001b[0m\u001b[0mviking_army\u001b[0m\u001b[1;33m)\u001b[0m\u001b[1;33m)\u001b[0m\u001b[1;33m\u001b[0m\u001b[1;33m\u001b[0m\u001b[0m\n\u001b[1;32m---> 19\u001b[1;33m \u001b[0mviking_attack\u001b[0m\u001b[1;33m(\u001b[0m\u001b[1;33m)\u001b[0m\u001b[1;33m\u001b[0m\u001b[1;33m\u001b[0m\u001b[0m\n\u001b[0m",
      "\u001b[1;32m<ipython-input-59-4923fe467d16>\u001b[0m in \u001b[0;36mviking_attack\u001b[1;34m()\u001b[0m\n\u001b[0;32m      5\u001b[0m     \u001b[0mrandom_v\u001b[0m \u001b[1;33m=\u001b[0m \u001b[0mrandom\u001b[0m\u001b[1;33m.\u001b[0m\u001b[0mrandint\u001b[0m\u001b[1;33m(\u001b[0m\u001b[1;36m0\u001b[0m\u001b[1;33m,\u001b[0m\u001b[0mlen\u001b[0m\u001b[1;33m(\u001b[0m\u001b[0mviking_army\u001b[0m\u001b[1;33m)\u001b[0m\u001b[1;33m-\u001b[0m\u001b[1;36m1\u001b[0m\u001b[1;33m)\u001b[0m\u001b[1;33m\u001b[0m\u001b[1;33m\u001b[0m\u001b[0m\n\u001b[0;32m      6\u001b[0m     \u001b[0mrandom_s\u001b[0m \u001b[1;33m=\u001b[0m \u001b[0mrandom\u001b[0m\u001b[1;33m.\u001b[0m\u001b[0mrandint\u001b[0m\u001b[1;33m(\u001b[0m\u001b[1;36m0\u001b[0m\u001b[1;33m,\u001b[0m\u001b[0mlen\u001b[0m\u001b[1;33m(\u001b[0m\u001b[0msaxon_army\u001b[0m\u001b[1;33m)\u001b[0m\u001b[1;33m-\u001b[0m\u001b[1;36m1\u001b[0m\u001b[1;33m)\u001b[0m\u001b[1;33m\u001b[0m\u001b[1;33m\u001b[0m\u001b[0m\n\u001b[1;32m----> 7\u001b[1;33m     \u001b[0msaxon_army\u001b[0m\u001b[1;33m[\u001b[0m\u001b[0mrandom_s\u001b[0m\u001b[1;33m]\u001b[0m\u001b[1;33m.\u001b[0m\u001b[0mreceive_damage\u001b[0m\u001b[1;33m(\u001b[0m\u001b[0mviking_army\u001b[0m\u001b[1;33m[\u001b[0m\u001b[0mrandom_v\u001b[0m\u001b[1;33m]\u001b[0m\u001b[1;33m.\u001b[0m\u001b[0mstrength\u001b[0m\u001b[1;33m)\u001b[0m\u001b[1;33m\u001b[0m\u001b[1;33m\u001b[0m\u001b[0m\n\u001b[0m\u001b[0;32m      8\u001b[0m     \u001b[1;32mif\u001b[0m \u001b[0msaxon_army\u001b[0m\u001b[1;33m[\u001b[0m\u001b[0mrandom_s\u001b[0m\u001b[1;33m]\u001b[0m\u001b[1;33m.\u001b[0m\u001b[0mhealth\u001b[0m \u001b[1;33m<=\u001b[0m \u001b[1;36m0\u001b[0m\u001b[1;33m:\u001b[0m\u001b[1;33m\u001b[0m\u001b[1;33m\u001b[0m\u001b[0m\n\u001b[0;32m      9\u001b[0m         \u001b[0msaxon_army\u001b[0m\u001b[1;33m.\u001b[0m\u001b[0mremove\u001b[0m\u001b[1;33m(\u001b[0m\u001b[0msaxon_army\u001b[0m\u001b[1;33m[\u001b[0m\u001b[0mrandom_s\u001b[0m\u001b[1;33m]\u001b[0m\u001b[1;33m)\u001b[0m\u001b[1;33m\u001b[0m\u001b[1;33m\u001b[0m\u001b[0m\n",
      "\u001b[1;31mAttributeError\u001b[0m: 'str' object has no attribute 'receive_damage'"
     ]
    }
   ],
   "source": [
    "# your code here\n",
    "import random\n",
    "\n",
    "def viking_attack():\n",
    "    random_v = random.randint(0,len(viking_army)-1)\n",
    "    random_s = random.randint(0,len(saxon_army)-1)\n",
    "    saxon_army[random_s].receive_damage(viking_army[random_v].strength)\n",
    "    if saxon_army[random_s].health <= 0:\n",
    "        saxon_army.remove(saxon_army[random_s])\n",
    "\n",
    "def saxon_attack():\n",
    "    random_v = random.randint(0,len(viking_army)-1)\n",
    "    random_s = random.randint(0,len(saxon_army)-1) \n",
    "    viking_army[random_v].receive_damage(saxon_army[random_s].strength)\n",
    "    if viking_army[random_v].health <= 0:\n",
    "        viking_army.remove(viking_army[random_v])\n",
    "\n",
    "range(len(viking_army))\n",
    "viking_attack()"
   ]
  },
  {
   "cell_type": "markdown",
   "metadata": {},
   "source": [
    "**Define a function called `show_status`.**\n",
    "This function will show the current status of the war. The requirements that `show_status` must meet are:\n",
    "\n",
    "* **show_status**\n",
    "    - If the `Saxon` list is empty, must return \"Vikings live to fight another day!\"\n",
    "    - If the `Viking` list is empty, must return \"Saxons are the last ones standing! \"\n",
    "    - If there are at least one `Viking` and one `Saxon`, must return \"Vikings and Saxons are still in the thick of battle.\"\n"
   ]
  },
  {
   "cell_type": "code",
   "execution_count": 10,
   "metadata": {},
   "outputs": [],
   "source": [
    "# your code here\n",
    "def show_status():\n",
    "    if len(saxon_army) == 0:\n",
    "        print('Vikings live to fight another day!')\n",
    "    elif len(vikings_army) == 0:\n",
    "        print('Saxons are the last ones standing!')\n",
    "    else:\n",
    "        print('Vikings and Saxons are still in the thick of battle.')"
   ]
  },
  {
   "cell_type": "markdown",
   "metadata": {},
   "source": [
    "### Start the battle\n",
    "\n",
    "Now you have all you need to simulate the battle. First, create the soldiers.\n",
    "\n",
    "**Create as many `Viking` instances as teachers in your class and give them the appropriate names. Remember to add them to the `viking_army`.** All vikings have 100 health points and 50 strength points."
   ]
  },
  {
   "cell_type": "code",
   "execution_count": 65,
   "metadata": {},
   "outputs": [
    {
     "ename": "TypeError",
     "evalue": "Viking() takes no arguments",
     "output_type": "error",
     "traceback": [
      "\u001b[1;31m---------------------------------------------------------------------------\u001b[0m",
      "\u001b[1;31mTypeError\u001b[0m                                 Traceback (most recent call last)",
      "\u001b[1;32m<ipython-input-65-7367fd944d35>\u001b[0m in \u001b[0;36m<module>\u001b[1;34m\u001b[0m\n\u001b[0;32m      1\u001b[0m \u001b[1;31m# your code here\u001b[0m\u001b[1;33m\u001b[0m\u001b[1;33m\u001b[0m\u001b[1;33m\u001b[0m\u001b[0m\n\u001b[1;32m----> 2\u001b[1;33m \u001b[0mvik_1\u001b[0m \u001b[1;33m=\u001b[0m \u001b[0mbs\u001b[0m\u001b[1;33m.\u001b[0m\u001b[0mViking\u001b[0m\u001b[1;33m(\u001b[0m\u001b[1;36m100\u001b[0m\u001b[1;33m,\u001b[0m \u001b[1;36m50\u001b[0m\u001b[1;33m,\u001b[0m \u001b[1;34m'Tjerk'\u001b[0m\u001b[1;33m)\u001b[0m\u001b[1;33m\u001b[0m\u001b[1;33m\u001b[0m\u001b[0m\n\u001b[0m\u001b[0;32m      3\u001b[0m \u001b[0mvik_2\u001b[0m \u001b[1;33m=\u001b[0m \u001b[0mbs\u001b[0m\u001b[1;33m.\u001b[0m\u001b[0mViking\u001b[0m\u001b[1;33m(\u001b[0m\u001b[1;36m100\u001b[0m\u001b[1;33m,\u001b[0m \u001b[1;36m50\u001b[0m\u001b[1;33m,\u001b[0m \u001b[1;34m'Nacho'\u001b[0m\u001b[1;33m)\u001b[0m\u001b[1;33m\u001b[0m\u001b[1;33m\u001b[0m\u001b[0m\n\u001b[0;32m      4\u001b[0m \u001b[0mvik_3\u001b[0m \u001b[1;33m=\u001b[0m \u001b[0mbs\u001b[0m\u001b[1;33m.\u001b[0m\u001b[0mViking\u001b[0m\u001b[1;33m(\u001b[0m\u001b[1;36m100\u001b[0m\u001b[1;33m,\u001b[0m \u001b[1;36m50\u001b[0m\u001b[1;33m,\u001b[0m \u001b[1;34m'Ali'\u001b[0m\u001b[1;33m)\u001b[0m\u001b[1;33m\u001b[0m\u001b[1;33m\u001b[0m\u001b[0m\n\u001b[0;32m      5\u001b[0m \u001b[1;33m\u001b[0m\u001b[0m\n",
      "\u001b[1;31mTypeError\u001b[0m: Viking() takes no arguments"
     ]
    }
   ],
   "source": [
    "# your code here\n",
    "vik_1 = bs.Viking(100, 50, 'Tjerk')\n",
    "vik_2 = bs.Viking(100, 50, 'Nacho')\n",
    "vik_3 = bs.Viking(100, 50, 'Ali')\n",
    "\n",
    "add_viking('vik_1')\n",
    "add_viking('vik_2')\n",
    "add_viking('vik_3')"
   ]
  },
  {
   "cell_type": "markdown",
   "metadata": {},
   "source": [
    "**Create as many `Saxons` instances as students in your class. Remember to add them to the `saxon_army`.** All saxons have 100 health points and 15 strength points."
   ]
  },
  {
   "cell_type": "code",
   "execution_count": 47,
   "metadata": {},
   "outputs": [],
   "source": [
    "# your code here\n",
    "sax1 = bs.Saxon(100, 15)\n",
    "add_saxon(sax1)\n",
    "sax2 = bs.Saxon(100, 15)\n",
    "add_saxon(sax2)\n",
    "sax3 = bs.Saxon(100, 15)\n",
    "add_saxon(sax3)\n",
    "sax4 = bs.Saxon(100, 15)\n",
    "add_saxon(sax4)\n",
    "sax5 = bs.Saxon(100, 15)\n",
    "add_saxon(sax5)\n",
    "sax6 = bs.Saxon(100, 15)\n",
    "add_saxon(sax6)\n",
    "sax7 = bs.Saxon(100, 15)\n",
    "add_saxon(sax7)\n",
    "sax8 = bs.Saxon(100, 15)\n",
    "add_saxon(sax8)\n",
    "sax9 = bs.Saxon(100, 15)\n",
    "add_saxon(sax9)\n",
    "sax10 = bs.Saxon(100, 15)\n",
    "add_saxon(sax10)\n",
    "sax11 = bs.Saxon(100, 15)\n",
    "add_saxon(sax11)\n",
    "sax12 = bs.Saxon(100, 15)\n",
    "add_saxon('sax12')"
   ]
  },
  {
   "cell_type": "markdown",
   "metadata": {},
   "source": [
    "**Finally, write the execution of the battle.**\n",
    "You will need to create a battle loop. In each iteration:\n",
    "\n",
    "- Vikings will attack first. \n",
    "- After the attack, a message of the Saxon soldier status must be printed. \n",
    "- Saxons will attack last. \n",
    "- After the attack, a message of the Viking soldier status must be printed.\n",
    "- At the end of an iteration, a message of the status of the battle must be printed.\n",
    "\n",
    "Remember to take into account that if any of the armies lose all their soldiers, the battle needs automatically and a message of the resolution of the battle must be printed."
   ]
  },
  {
   "cell_type": "code",
   "execution_count": 67,
   "metadata": {},
   "outputs": [
    {
     "ename": "AttributeError",
     "evalue": "'str' object has no attribute 'receive_damage'",
     "output_type": "error",
     "traceback": [
      "\u001b[1;31m---------------------------------------------------------------------------\u001b[0m",
      "\u001b[1;31mAttributeError\u001b[0m                            Traceback (most recent call last)",
      "\u001b[1;32m<ipython-input-67-3eef737ea1e0>\u001b[0m in \u001b[0;36m<module>\u001b[1;34m\u001b[0m\n\u001b[0;32m      1\u001b[0m \u001b[1;31m# your code here\u001b[0m\u001b[1;33m\u001b[0m\u001b[1;33m\u001b[0m\u001b[1;33m\u001b[0m\u001b[0m\n\u001b[0;32m      2\u001b[0m \u001b[1;32mwhile\u001b[0m \u001b[0mlen\u001b[0m\u001b[1;33m(\u001b[0m\u001b[0mviking_army\u001b[0m\u001b[1;33m)\u001b[0m \u001b[1;33m>\u001b[0m \u001b[1;36m0\u001b[0m \u001b[1;32mand\u001b[0m \u001b[0mlen\u001b[0m\u001b[1;33m(\u001b[0m\u001b[0msaxon_army\u001b[0m\u001b[1;33m)\u001b[0m \u001b[1;33m>\u001b[0m \u001b[1;36m0\u001b[0m\u001b[1;33m:\u001b[0m\u001b[1;33m\u001b[0m\u001b[1;33m\u001b[0m\u001b[0m\n\u001b[1;32m----> 3\u001b[1;33m     \u001b[0mviking_attack\u001b[0m\u001b[1;33m(\u001b[0m\u001b[1;33m)\u001b[0m\u001b[1;33m\u001b[0m\u001b[1;33m\u001b[0m\u001b[0m\n\u001b[0m\u001b[0;32m      4\u001b[0m     \u001b[0msaxon_attack\u001b[0m\u001b[1;33m(\u001b[0m\u001b[1;33m)\u001b[0m\u001b[1;33m\u001b[0m\u001b[1;33m\u001b[0m\u001b[0m\n\u001b[0;32m      5\u001b[0m     \u001b[0mshow_status\u001b[0m\u001b[1;33m(\u001b[0m\u001b[1;33m)\u001b[0m\u001b[1;33m\u001b[0m\u001b[1;33m\u001b[0m\u001b[0m\n",
      "\u001b[1;32m<ipython-input-59-4923fe467d16>\u001b[0m in \u001b[0;36mviking_attack\u001b[1;34m()\u001b[0m\n\u001b[0;32m      5\u001b[0m     \u001b[0mrandom_v\u001b[0m \u001b[1;33m=\u001b[0m \u001b[0mrandom\u001b[0m\u001b[1;33m.\u001b[0m\u001b[0mrandint\u001b[0m\u001b[1;33m(\u001b[0m\u001b[1;36m0\u001b[0m\u001b[1;33m,\u001b[0m\u001b[0mlen\u001b[0m\u001b[1;33m(\u001b[0m\u001b[0mviking_army\u001b[0m\u001b[1;33m)\u001b[0m\u001b[1;33m-\u001b[0m\u001b[1;36m1\u001b[0m\u001b[1;33m)\u001b[0m\u001b[1;33m\u001b[0m\u001b[1;33m\u001b[0m\u001b[0m\n\u001b[0;32m      6\u001b[0m     \u001b[0mrandom_s\u001b[0m \u001b[1;33m=\u001b[0m \u001b[0mrandom\u001b[0m\u001b[1;33m.\u001b[0m\u001b[0mrandint\u001b[0m\u001b[1;33m(\u001b[0m\u001b[1;36m0\u001b[0m\u001b[1;33m,\u001b[0m\u001b[0mlen\u001b[0m\u001b[1;33m(\u001b[0m\u001b[0msaxon_army\u001b[0m\u001b[1;33m)\u001b[0m\u001b[1;33m-\u001b[0m\u001b[1;36m1\u001b[0m\u001b[1;33m)\u001b[0m\u001b[1;33m\u001b[0m\u001b[1;33m\u001b[0m\u001b[0m\n\u001b[1;32m----> 7\u001b[1;33m     \u001b[0msaxon_army\u001b[0m\u001b[1;33m[\u001b[0m\u001b[0mrandom_s\u001b[0m\u001b[1;33m]\u001b[0m\u001b[1;33m.\u001b[0m\u001b[0mreceive_damage\u001b[0m\u001b[1;33m(\u001b[0m\u001b[0mviking_army\u001b[0m\u001b[1;33m[\u001b[0m\u001b[0mrandom_v\u001b[0m\u001b[1;33m]\u001b[0m\u001b[1;33m.\u001b[0m\u001b[0mstrength\u001b[0m\u001b[1;33m)\u001b[0m\u001b[1;33m\u001b[0m\u001b[1;33m\u001b[0m\u001b[0m\n\u001b[0m\u001b[0;32m      8\u001b[0m     \u001b[1;32mif\u001b[0m \u001b[0msaxon_army\u001b[0m\u001b[1;33m[\u001b[0m\u001b[0mrandom_s\u001b[0m\u001b[1;33m]\u001b[0m\u001b[1;33m.\u001b[0m\u001b[0mhealth\u001b[0m \u001b[1;33m<=\u001b[0m \u001b[1;36m0\u001b[0m\u001b[1;33m:\u001b[0m\u001b[1;33m\u001b[0m\u001b[1;33m\u001b[0m\u001b[0m\n\u001b[0;32m      9\u001b[0m         \u001b[0msaxon_army\u001b[0m\u001b[1;33m.\u001b[0m\u001b[0mremove\u001b[0m\u001b[1;33m(\u001b[0m\u001b[0msaxon_army\u001b[0m\u001b[1;33m[\u001b[0m\u001b[0mrandom_s\u001b[0m\u001b[1;33m]\u001b[0m\u001b[1;33m)\u001b[0m\u001b[1;33m\u001b[0m\u001b[1;33m\u001b[0m\u001b[0m\n",
      "\u001b[1;31mAttributeError\u001b[0m: 'str' object has no attribute 'receive_damage'"
     ]
    }
   ],
   "source": [
    "# your code here\n",
    "while len(viking_army) > 0 and len(saxon_army) > 0:\n",
    "    viking_attack()\n",
    "    saxon_attack()\n",
    "    show_status()\n",
    "show_status()"
   ]
  }
 ],
 "metadata": {
  "file_extension": ".py",
  "kernelspec": {
   "display_name": "Python 3",
   "language": "python",
   "name": "python3"
  },
  "language_info": {
   "codemirror_mode": {
    "name": "ipython",
    "version": 3
   },
   "file_extension": ".py",
   "mimetype": "text/x-python",
   "name": "python",
   "nbconvert_exporter": "python",
   "pygments_lexer": "ipython3",
   "version": "3.7.4"
  },
  "mimetype": "text/x-python",
  "name": "python",
  "npconvert_exporter": "python",
  "pygments_lexer": "ipython3",
  "version": 3
 },
 "nbformat": 4,
 "nbformat_minor": 2
}
